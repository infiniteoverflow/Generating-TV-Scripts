{
  "nbformat": 4,
  "nbformat_minor": 0,
  "metadata": {
    "colab": {
      "name": "Generate TV Scripts.ipynb",
      "provenance": [],
      "authorship_tag": "ABX9TyMOq3WZjAKq8lVjRCD+yjVD",
      "include_colab_link": true
    },
    "kernelspec": {
      "name": "python3",
      "display_name": "Python 3"
    },
    "accelerator": "GPU"
  },
  "cells": [
    {
      "cell_type": "markdown",
      "metadata": {
        "id": "view-in-github",
        "colab_type": "text"
      },
      "source": [
        "<a href=\"https://colab.research.google.com/github/infiniteoverflow/Generating-TV-Scripts/blob/master/Generate_TV_Scripts.ipynb\" target=\"_parent\"><img src=\"https://colab.research.google.com/assets/colab-badge.svg\" alt=\"Open In Colab\"/></a>"
      ]
    },
    {
      "cell_type": "markdown",
      "metadata": {
        "id": "fZL8nlTCbfvB",
        "colab_type": "text"
      },
      "source": [
        "# TV Script Generation\n",
        "\n",
        "In this project, you'll generate your own [Seinfeld](https://en.wikipedia.org/wiki/Seinfeld) TV scripts using RNNs.  You'll be using part of the [Seinfeld dataset](https://www.kaggle.com/thec03u5/seinfeld-chronicles#scripts.csv) of scripts from 9 seasons.  The Neural Network you'll build will generate a new ,\"fake\" TV script, based on patterns it recognizes in this training data.\n",
        "\n",
        "## Get the Data\n",
        "\n",
        "The data is already provided for you in `Seinfeld_Scripts.txt` and you're encouraged to open that file and look at the text. \n"
      ]
    },
    {
      "cell_type": "code",
      "metadata": {
        "id": "-XPdaIhZbKQJ",
        "colab_type": "code",
        "colab": {}
      },
      "source": [
        "# load in data\n",
        "import helper\n",
        "data_dir = 'Seinfeld_Scripts.txt'\n",
        "text = helper.load_data(data_dir)"
      ],
      "execution_count": 0,
      "outputs": []
    },
    {
      "cell_type": "markdown",
      "metadata": {
        "id": "KP716f5BcEA5",
        "colab_type": "text"
      },
      "source": [
        "## Explore the Data\n"
      ]
    },
    {
      "cell_type": "code",
      "metadata": {
        "id": "GN5rKnlHb8zu",
        "colab_type": "code",
        "colab": {
          "base_uri": "https://localhost:8080/",
          "height": 309
        },
        "outputId": "a664d6f3-265c-445f-9ef5-ead36f946d1d"
      },
      "source": [
        "view_line_range = (0, 10)\n",
        "\n",
        "import numpy as np\n",
        "\n",
        "print('Dataset Stats')\n",
        "print('Roughly the number of unique words: {}'.format(len({word: None for word in text.split()})))\n",
        "\n",
        "lines = text.split('\\n')\n",
        "print('Number of lines: {}'.format(len(lines)))\n",
        "word_count_line = [len(line.split()) for line in lines]\n",
        "print('Average number of words in each line: {}'.format(np.average(word_count_line)))\n",
        "\n",
        "print()\n",
        "print('The lines {} to {}:'.format(*view_line_range))\n",
        "print('\\n'.join(text.split('\\n')[view_line_range[0]:view_line_range[1]]))"
      ],
      "execution_count": 3,
      "outputs": [
        {
          "output_type": "stream",
          "text": [
            "Dataset Stats\n",
            "Roughly the number of unique words: 46367\n",
            "Number of lines: 109233\n",
            "Average number of words in each line: 5.544240293684143\n",
            "\n",
            "The lines 0 to 10:\n",
            "jerry: do you know what this is all about? do you know, why were here? to be out, this is out...and out is one of the single most enjoyable experiences of life. people...did you ever hear people talking about we should go out? this is what theyre talking about...this whole thing, were all out now, no one is home. not one person here is home, were all out! there are people trying to find us, they dont know where we are. (on an imaginary phone) did you ring?, i cant find him. where did he go? he didnt tell me where he was going. he must have gone out. you wanna go out you get ready, you pick out the clothes, right? you take the shower, you get all ready, get the cash, get your friends, the car, the spot, the reservation...then youre standing around, what do you do? you go we gotta be getting back. once youre out, you wanna get back! you wanna go to sleep, you wanna get up, you wanna go out again tomorrow, right? where ever you are in life, its my feeling, youve gotta go. \n",
            "\n",
            "jerry: (pointing at georges shirt) see, to me, that button is in the worst possible spot. the second button literally makes or breaks the shirt, look at it. its too high! its in no-mans-land. you look like you live with your mother. \n",
            "\n",
            "george: are you through? \n",
            "\n",
            "jerry: you do of course try on, when you buy? \n",
            "\n",
            "george: yes, it was purple, i liked it, i dont actually recall considering the buttons. \n",
            "\n"
          ],
          "name": "stdout"
        }
      ]
    },
    {
      "cell_type": "markdown",
      "metadata": {
        "id": "2AT6LjHlcNsS",
        "colab_type": "text"
      },
      "source": [
        "---\n",
        "## Implement Pre-processing Functions\n",
        "The first thing to do to any dataset is pre-processing.  Implement the following pre-processing functions below:\n",
        "- Lookup Table\n",
        "- Tokenize Punctuation\n",
        "\n",
        "### Lookup Table\n",
        "To create a word embedding, you first need to transform the words to ids.  In this function, create two dictionaries:\n",
        "- Dictionary to go from the words to an id, we'll call `vocab_to_int`\n",
        "- Dictionary to go from the id to word, we'll call `int_to_vocab`\n",
        "\n",
        "Return these dictionaries in the following **tuple** `(vocab_to_int, int_to_vocab)`"
      ]
    },
    {
      "cell_type": "code",
      "metadata": {
        "id": "lRfe5JPtcIJU",
        "colab_type": "code",
        "colab": {}
      },
      "source": [
        "from collections import Counter\n",
        "\n",
        "def create_lookup_tables(text):\n",
        "    \"\"\"\n",
        "    Create lookup tables for vocabulary\n",
        "    :param text: The text of tv scripts split into words\n",
        "    :return: A tuple of dicts (vocab_to_int, int_to_vocab)\n",
        "    \"\"\"\n",
        "    \n",
        "    counts = Counter(text)\n",
        "    vocab = sorted(counts , key=counts.get , reverse=True)\n",
        "    vocab_to_int = {word  : index for index,word in enumerate(vocab,1)}\n",
        "    int_to_vocab = {index : word for index,word in enumerate(vocab,1)}\n",
        "    # return tuple\n",
        "    return (vocab_to_int, int_to_vocab)\n"
      ],
      "execution_count": 0,
      "outputs": []
    },
    {
      "cell_type": "markdown",
      "metadata": {
        "id": "BD5DLNxIcZUO",
        "colab_type": "text"
      },
      "source": [
        "### Tokenize Punctuation\n",
        "We'll be splitting the script into a word array using spaces as delimiters.  However, punctuations like periods and exclamation marks can create multiple ids for the same word. For example, \"bye\" and \"bye!\" would generate two different word ids.\n",
        "\n",
        "Implement the function `token_lookup` to return a dict that will be used to tokenize symbols like \"!\" into \"||Exclamation_Mark||\".  Create a dictionary for the following symbols where the symbol is the key and value is the token:\n",
        "- Period ( **.** )\n",
        "- Comma ( **,** )\n",
        "- Quotation Mark ( **\"** )\n",
        "- Semicolon ( **;** )\n",
        "- Exclamation mark ( **!** )\n",
        "- Question mark ( **?** )\n",
        "- Left Parentheses ( **(** )\n",
        "- Right Parentheses ( **)** )\n",
        "- Dash ( **-** )\n",
        "- Return ( **\\n** )\n",
        "\n",
        "This dictionary will be used to tokenize the symbols and add the delimiter (space) around it.  This separates each symbols as its own word, making it easier for the neural network to predict the next word. Make sure you don't use a value that could be confused as a word; for example, instead of using the value \"dash\", try using something like \"||dash||\"."
      ]
    },
    {
      "cell_type": "code",
      "metadata": {
        "id": "4uoGXoQicU66",
        "colab_type": "code",
        "colab": {}
      },
      "source": [
        "def token_lookup():\n",
        "    \"\"\"\n",
        "    Generate a dict to turn punctuation into a token.\n",
        "    :return: Tokenized dictionary where the key is the punctuation and the value is the token\n",
        "    \"\"\"\n",
        "    punctuation = {}\n",
        "    punctuation['.'] = \"||Period||\"\n",
        "    punctuation[','] = \"||Comma||\"\n",
        "    punctuation['\"'] = \"||Quotation_Mark||\"\n",
        "    punctuation[';'] = \"||Semicolon||\"\n",
        "    punctuation['!'] = \"||Exclamation_Mark||\"\n",
        "    punctuation['?'] = \"||Question_Mark||\"\n",
        "    punctuation['('] = \"||Left_Parentheses||\"\n",
        "    punctuation[')'] = \"||Right_Parentheses||\"\n",
        "    punctuation['-'] = \"||Dash||\"\n",
        "    punctuation['\\n'] = \"||Return||\"\n",
        "    return punctuation\n"
      ],
      "execution_count": 0,
      "outputs": []
    },
    {
      "cell_type": "markdown",
      "metadata": {
        "id": "v_Vxt-a4ch4G",
        "colab_type": "text"
      },
      "source": [
        "## Preprocess all the data and save it"
      ]
    },
    {
      "cell_type": "code",
      "metadata": {
        "id": "5evDlHx5cerV",
        "colab_type": "code",
        "colab": {}
      },
      "source": [
        "# pre-process training data\n",
        "helper.preprocess_and_save_data(data_dir, token_lookup, create_lookup_tables)"
      ],
      "execution_count": 0,
      "outputs": []
    },
    {
      "cell_type": "code",
      "metadata": {
        "id": "XHKkkd50clGy",
        "colab_type": "code",
        "colab": {}
      },
      "source": [
        "import helper\n",
        "\n",
        "int_text, vocab_to_int, int_to_vocab, token_dict = helper.load_preprocess()"
      ],
      "execution_count": 0,
      "outputs": []
    },
    {
      "cell_type": "markdown",
      "metadata": {
        "id": "U9CmzLQ2cvz3",
        "colab_type": "text"
      },
      "source": [
        "## Building the neural network"
      ]
    },
    {
      "cell_type": "markdown",
      "metadata": {
        "id": "un82eq2rcytX",
        "colab_type": "text"
      },
      "source": [
        "### Check GPU Access"
      ]
    },
    {
      "cell_type": "code",
      "metadata": {
        "id": "q8dEcId1cpch",
        "colab_type": "code",
        "colab": {}
      },
      "source": [
        "import torch\n",
        "\n",
        "# Check for a GPU\n",
        "train_on_gpu = torch.cuda.is_available()\n",
        "if not train_on_gpu:\n",
        "    print('No GPU found. Please use a GPU to train your neural network.')"
      ],
      "execution_count": 0,
      "outputs": []
    },
    {
      "cell_type": "code",
      "metadata": {
        "id": "IF12bakJc0ap",
        "colab_type": "code",
        "colab": {}
      },
      "source": [
        ""
      ],
      "execution_count": 0,
      "outputs": []
    }
  ]
}