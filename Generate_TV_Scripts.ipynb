{
  "nbformat": 4,
  "nbformat_minor": 0,
  "metadata": {
    "colab": {
      "name": "Generate TV Scripts.ipynb",
      "provenance": [],
      "collapsed_sections": [],
      "authorship_tag": "ABX9TyMNESBsbBPlwIvoHUQbendZ",
      "include_colab_link": true
    },
    "kernelspec": {
      "name": "python3",
      "display_name": "Python 3"
    },
    "accelerator": "GPU"
  },
  "cells": [
    {
      "cell_type": "markdown",
      "metadata": {
        "id": "view-in-github",
        "colab_type": "text"
      },
      "source": [
        "<a href=\"https://colab.research.google.com/github/infiniteoverflow/Generating-TV-Scripts/blob/master/Generate_TV_Scripts.ipynb\" target=\"_parent\"><img src=\"https://colab.research.google.com/assets/colab-badge.svg\" alt=\"Open In Colab\"/></a>"
      ]
    },
    {
      "cell_type": "markdown",
      "metadata": {
        "id": "fZL8nlTCbfvB",
        "colab_type": "text"
      },
      "source": [
        "# TV Script Generation\n",
        "\n",
        "In this project, you'll generate your own [Seinfeld](https://en.wikipedia.org/wiki/Seinfeld) TV scripts using RNNs.  You'll be using part of the [Seinfeld dataset](https://www.kaggle.com/thec03u5/seinfeld-chronicles#scripts.csv) of scripts from 9 seasons.  The Neural Network you'll build will generate a new ,\"fake\" TV script, based on patterns it recognizes in this training data.\n",
        "\n",
        "## Get the Data\n",
        "\n",
        "The data is already provided for you in `Seinfeld_Scripts.txt` and you're encouraged to open that file and look at the text. \n"
      ]
    },
    {
      "cell_type": "code",
      "metadata": {
        "id": "-XPdaIhZbKQJ",
        "colab_type": "code",
        "colab": {}
      },
      "source": [
        "# load in data\n",
        "import helper\n",
        "data_dir = 'Seinfeld_Scripts.txt'\n",
        "text = helper.load_data(data_dir)"
      ],
      "execution_count": 0,
      "outputs": []
    },
    {
      "cell_type": "markdown",
      "metadata": {
        "id": "KP716f5BcEA5",
        "colab_type": "text"
      },
      "source": [
        "## Explore the Data\n"
      ]
    },
    {
      "cell_type": "code",
      "metadata": {
        "id": "GN5rKnlHb8zu",
        "colab_type": "code",
        "colab": {
          "base_uri": "https://localhost:8080/",
          "height": 309
        },
        "outputId": "a664d6f3-265c-445f-9ef5-ead36f946d1d"
      },
      "source": [
        "view_line_range = (0, 10)\n",
        "\n",
        "import numpy as np\n",
        "\n",
        "print('Dataset Stats')\n",
        "print('Roughly the number of unique words: {}'.format(len({word: None for word in text.split()})))\n",
        "\n",
        "lines = text.split('\\n')\n",
        "print('Number of lines: {}'.format(len(lines)))\n",
        "word_count_line = [len(line.split()) for line in lines]\n",
        "print('Average number of words in each line: {}'.format(np.average(word_count_line)))\n",
        "\n",
        "print()\n",
        "print('The lines {} to {}:'.format(*view_line_range))\n",
        "print('\\n'.join(text.split('\\n')[view_line_range[0]:view_line_range[1]]))"
      ],
      "execution_count": 3,
      "outputs": [
        {
          "output_type": "stream",
          "text": [
            "Dataset Stats\n",
            "Roughly the number of unique words: 46367\n",
            "Number of lines: 109233\n",
            "Average number of words in each line: 5.544240293684143\n",
            "\n",
            "The lines 0 to 10:\n",
            "jerry: do you know what this is all about? do you know, why were here? to be out, this is out...and out is one of the single most enjoyable experiences of life. people...did you ever hear people talking about we should go out? this is what theyre talking about...this whole thing, were all out now, no one is home. not one person here is home, were all out! there are people trying to find us, they dont know where we are. (on an imaginary phone) did you ring?, i cant find him. where did he go? he didnt tell me where he was going. he must have gone out. you wanna go out you get ready, you pick out the clothes, right? you take the shower, you get all ready, get the cash, get your friends, the car, the spot, the reservation...then youre standing around, what do you do? you go we gotta be getting back. once youre out, you wanna get back! you wanna go to sleep, you wanna get up, you wanna go out again tomorrow, right? where ever you are in life, its my feeling, youve gotta go. \n",
            "\n",
            "jerry: (pointing at georges shirt) see, to me, that button is in the worst possible spot. the second button literally makes or breaks the shirt, look at it. its too high! its in no-mans-land. you look like you live with your mother. \n",
            "\n",
            "george: are you through? \n",
            "\n",
            "jerry: you do of course try on, when you buy? \n",
            "\n",
            "george: yes, it was purple, i liked it, i dont actually recall considering the buttons. \n",
            "\n"
          ],
          "name": "stdout"
        }
      ]
    },
    {
      "cell_type": "markdown",
      "metadata": {
        "id": "2AT6LjHlcNsS",
        "colab_type": "text"
      },
      "source": [
        "---\n",
        "## Implement Pre-processing Functions\n",
        "The first thing to do to any dataset is pre-processing.  Implement the following pre-processing functions below:\n",
        "- Lookup Table\n",
        "- Tokenize Punctuation\n",
        "\n",
        "### Lookup Table\n",
        "To create a word embedding, you first need to transform the words to ids.  In this function, create two dictionaries:\n",
        "- Dictionary to go from the words to an id, we'll call `vocab_to_int`\n",
        "- Dictionary to go from the id to word, we'll call `int_to_vocab`\n",
        "\n",
        "Return these dictionaries in the following **tuple** `(vocab_to_int, int_to_vocab)`"
      ]
    },
    {
      "cell_type": "code",
      "metadata": {
        "id": "lRfe5JPtcIJU",
        "colab_type": "code",
        "colab": {}
      },
      "source": [
        "from collections import Counter\n",
        "\n",
        "def create_lookup_tables(text):\n",
        "    \"\"\"\n",
        "    Create lookup tables for vocabulary\n",
        "    :param text: The text of tv scripts split into words\n",
        "    :return: A tuple of dicts (vocab_to_int, int_to_vocab)\n",
        "    \"\"\"\n",
        "    \n",
        "    counts = Counter(text)\n",
        "    vocab = sorted(counts , key=counts.get , reverse=True)\n",
        "    vocab_to_int = {word  : index for index,word in enumerate(vocab,1)}\n",
        "    int_to_vocab = {index : word for index,word in enumerate(vocab,1)}\n",
        "    # return tuple\n",
        "    return (vocab_to_int, int_to_vocab)\n"
      ],
      "execution_count": 0,
      "outputs": []
    },
    {
      "cell_type": "markdown",
      "metadata": {
        "id": "BD5DLNxIcZUO",
        "colab_type": "text"
      },
      "source": [
        "### Tokenize Punctuation\n",
        "We'll be splitting the script into a word array using spaces as delimiters.  However, punctuations like periods and exclamation marks can create multiple ids for the same word. For example, \"bye\" and \"bye!\" would generate two different word ids.\n",
        "\n",
        "Implement the function `token_lookup` to return a dict that will be used to tokenize symbols like \"!\" into \"||Exclamation_Mark||\".  Create a dictionary for the following symbols where the symbol is the key and value is the token:\n",
        "- Period ( **.** )\n",
        "- Comma ( **,** )\n",
        "- Quotation Mark ( **\"** )\n",
        "- Semicolon ( **;** )\n",
        "- Exclamation mark ( **!** )\n",
        "- Question mark ( **?** )\n",
        "- Left Parentheses ( **(** )\n",
        "- Right Parentheses ( **)** )\n",
        "- Dash ( **-** )\n",
        "- Return ( **\\n** )\n",
        "\n",
        "This dictionary will be used to tokenize the symbols and add the delimiter (space) around it.  This separates each symbols as its own word, making it easier for the neural network to predict the next word. Make sure you don't use a value that could be confused as a word; for example, instead of using the value \"dash\", try using something like \"||dash||\"."
      ]
    },
    {
      "cell_type": "code",
      "metadata": {
        "id": "4uoGXoQicU66",
        "colab_type": "code",
        "colab": {}
      },
      "source": [
        "def token_lookup():\n",
        "    \"\"\"\n",
        "    Generate a dict to turn punctuation into a token.\n",
        "    :return: Tokenized dictionary where the key is the punctuation and the value is the token\n",
        "    \"\"\"\n",
        "    punctuation = {}\n",
        "    punctuation['.'] = \"||Period||\"\n",
        "    punctuation[','] = \"||Comma||\"\n",
        "    punctuation['\"'] = \"||Quotation_Mark||\"\n",
        "    punctuation[';'] = \"||Semicolon||\"\n",
        "    punctuation['!'] = \"||Exclamation_Mark||\"\n",
        "    punctuation['?'] = \"||Question_Mark||\"\n",
        "    punctuation['('] = \"||Left_Parentheses||\"\n",
        "    punctuation[')'] = \"||Right_Parentheses||\"\n",
        "    punctuation['-'] = \"||Dash||\"\n",
        "    punctuation['\\n'] = \"||Return||\"\n",
        "    return punctuation\n"
      ],
      "execution_count": 0,
      "outputs": []
    },
    {
      "cell_type": "markdown",
      "metadata": {
        "id": "v_Vxt-a4ch4G",
        "colab_type": "text"
      },
      "source": [
        "## Preprocess all the data and save it"
      ]
    },
    {
      "cell_type": "code",
      "metadata": {
        "id": "5evDlHx5cerV",
        "colab_type": "code",
        "colab": {}
      },
      "source": [
        "# pre-process training data\n",
        "helper.preprocess_and_save_data(data_dir, token_lookup, create_lookup_tables)"
      ],
      "execution_count": 0,
      "outputs": []
    },
    {
      "cell_type": "code",
      "metadata": {
        "id": "XHKkkd50clGy",
        "colab_type": "code",
        "colab": {}
      },
      "source": [
        "import helper\n",
        "\n",
        "int_text, vocab_to_int, int_to_vocab, token_dict = helper.load_preprocess()"
      ],
      "execution_count": 0,
      "outputs": []
    },
    {
      "cell_type": "markdown",
      "metadata": {
        "id": "U9CmzLQ2cvz3",
        "colab_type": "text"
      },
      "source": [
        "## Building the neural network"
      ]
    },
    {
      "cell_type": "markdown",
      "metadata": {
        "id": "un82eq2rcytX",
        "colab_type": "text"
      },
      "source": [
        "### Check GPU Access"
      ]
    },
    {
      "cell_type": "code",
      "metadata": {
        "id": "q8dEcId1cpch",
        "colab_type": "code",
        "colab": {}
      },
      "source": [
        "import torch\n",
        "\n",
        "# Check for a GPU\n",
        "train_on_gpu = torch.cuda.is_available()\n",
        "if not train_on_gpu:\n",
        "    print('No GPU found. Please use a GPU to train your neural network.')"
      ],
      "execution_count": 0,
      "outputs": []
    },
    {
      "cell_type": "markdown",
      "metadata": {
        "id": "BSzGifgSdBqO",
        "colab_type": "text"
      },
      "source": [
        "## Input\n",
        "Let's start with the preprocessed input data. We'll use [TensorDataset](http://pytorch.org/docs/master/data.html#torch.utils.data.TensorDataset) to provide a known format to our dataset; in combination with [DataLoader](http://pytorch.org/docs/master/data.html#torch.utils.data.DataLoader), it will handle batching, shuffling, and other dataset iteration functions.\n",
        "\n",
        "You can create data with TensorDataset by passing in feature and target tensors. Then create a DataLoader as usual.\n",
        "```\n",
        "data = TensorDataset(feature_tensors, target_tensors)\n",
        "data_loader = torch.utils.data.DataLoader(data, \n",
        "                                          batch_size=batch_size)\n",
        "```\n",
        "\n",
        "### Batching\n",
        "Implement the `batch_data` function to batch `words` data into chunks of size `batch_size` using the `TensorDataset` and `DataLoader` classes.\n",
        "\n",
        ">You can batch words using the DataLoader, but it will be up to you to create `feature_tensors` and `target_tensors` of the correct size and content for a given `sequence_length`.\n",
        "\n",
        "For example, say we have these as input:\n",
        "```\n",
        "words = [1, 2, 3, 4, 5, 6, 7]\n",
        "sequence_length = 4\n",
        "```\n",
        "\n",
        "Your first `feature_tensor` should contain the values:\n",
        "```\n",
        "[1, 2, 3, 4]\n",
        "```\n",
        "And the corresponding `target_tensor` should just be the next \"word\"/tokenized word value:\n",
        "```\n",
        "5\n",
        "```\n",
        "This should continue with the second `feature_tensor`, `target_tensor` being:\n",
        "```\n",
        "[2, 3, 4, 5]  # features\n",
        "6             # target\n",
        "```"
      ]
    },
    {
      "cell_type": "code",
      "metadata": {
        "id": "IF12bakJc0ap",
        "colab_type": "code",
        "colab": {}
      },
      "source": [
        "from torch.utils.data import TensorDataset, DataLoader\n",
        "\n",
        "\n",
        "def batch_data(words, sequence_length, batch_size):\n",
        "    \"\"\"\n",
        "    Batch the neural network data using DataLoader\n",
        "    :param words: The word ids of the TV scripts\n",
        "    :param sequence_length: The sequence length of each batch\n",
        "    :param batch_size: The size of each batch; the number of sequences in a batch\n",
        "    :return: DataLoader with batched data\n",
        "    \"\"\"\n",
        "    features = np.zeros((len(words)-sequence_length+1,sequence_length) , dtype = int)\n",
        "    targets = np.zeros((len(words)-sequence_length+1) ,dtype=int)\n",
        "    for i in range(len(words)-sequence_length+1):\n",
        "        features[i] = words[i:i+sequence_length]\n",
        "        if i+sequence_length+1 < len(words) : \n",
        "            targets[i] = words[i+sequence_length] \n",
        "        else: \n",
        "            targets[i] = 0\n",
        "        #print(targets[i])\n",
        "    dataset = TensorDataset(torch.from_numpy(features) , torch.from_numpy(targets))\n",
        "    dataloader = torch.utils.data.DataLoader(dataset , batch_size = batch_size)\n",
        "    # return a dataloader\n",
        "    return dataloader\n",
        "\n"
      ],
      "execution_count": 0,
      "outputs": []
    },
    {
      "cell_type": "markdown",
      "metadata": {
        "id": "RDqi6z_fdKMA",
        "colab_type": "text"
      },
      "source": [
        "---\n",
        "## Build the Neural Network\n",
        "Implement an RNN using PyTorch's [Module class](http://pytorch.org/docs/master/nn.html#torch.nn.Module). You may choose to use a GRU or an LSTM. To complete the RNN, you'll have to implement the following functions for the class:\n",
        " - `__init__` - The initialize function. \n",
        " - `init_hidden` - The initialization function for an LSTM/GRU hidden state\n",
        " - `forward` - Forward propagation function.\n",
        " \n",
        "The initialize function should create the layers of the neural network and save them to the class. The forward propagation function will use these layers to run forward propagation and generate an output and a hidden state.\n",
        "\n",
        "**The output of this model should be the *last* batch of word scores** after a complete sequence has been processed. That is, for each input sequence of words, we only want to output the word scores for a single, most likely, next word.\n",
        "\n",
        "```"
      ]
    },
    {
      "cell_type": "code",
      "metadata": {
        "id": "j0LMjIu9dE9L",
        "colab_type": "code",
        "colab": {}
      },
      "source": [
        "import torch.nn as nn\n",
        "\n",
        "class RNN(nn.Module):\n",
        "    \n",
        "    def __init__(self, vocab_size, output_size, embedding_dim, hidden_dim, n_layers, dropout=0.5):\n",
        "        \"\"\"\n",
        "        Initialize the PyTorch RNN Module\n",
        "        :param vocab_size: The number of input dimensions of the neural network (the size of the vocabulary)\n",
        "        :param output_size: The number of output dimensions of the neural network\n",
        "        :param embedding_dim: The size of embeddings, should you choose to use them        \n",
        "        :param hidden_dim: The size of the hidden layer outputs\n",
        "        :param dropout: dropout to add in between LSTM/GRU layers\n",
        "        \"\"\"\n",
        "        super(RNN, self).__init__()\n",
        "        \n",
        "        # set class variables\n",
        "        self.vocab_size = vocab_size\n",
        "        self.output_size = output_size\n",
        "        self.embedding_dim = embedding_dim\n",
        "        self.hidden_dim = hidden_dim\n",
        "        self.n_layers = n_layers\n",
        "        self.dropout = dropout\n",
        "        # define model layers\n",
        "        self.embedding = nn.Embedding(vocab_size  , embedding_dim)\n",
        "        self.recurrent = nn.LSTM(embedding_dim , hidden_dim,n_layers , dropout = dropout , batch_first=True)\n",
        "        self.fc = nn.Linear(hidden_dim,output_size)\n",
        "    \n",
        "    \n",
        "    def forward(self, nn_input, hidden):\n",
        "        \"\"\"\n",
        "        Forward propagation of the neural network\n",
        "        :param nn_input: The input to the neural network\n",
        "        :param hidden: The hidden state        \n",
        "        :return: Two Tensors, the output of the neural network and the latest hidden state\n",
        "        \"\"\"\n",
        "        batch_size = nn_input.size(0)\n",
        "        \n",
        "        embedding_out = self.embedding(nn_input)\n",
        "        LSTM_out , hidden = self.recurrent(embedding_out,hidden)\n",
        "        \n",
        "        # stack the output of Lstm\n",
        "        LSTM_out = LSTM_out.contiguous().view(-1,self.hidden_dim)\n",
        "        \n",
        "        out = self.fc(LSTM_out)\n",
        "        out = out.view(batch_size, -1, self.output_size)\n",
        "        out = out[:,-1]\n",
        "        # return one batch of output word scores and the hidden state\n",
        "        return out, hidden\n",
        "    \n",
        "    \n",
        "    def init_hidden(self, batch_size):\n",
        "        '''\n",
        "        Initialize the hidden state of an LSTM/GRU\n",
        "        :param batch_size: The batch_size of the hidden state\n",
        "        :return: hidden state of dims (n_layers, batch_size, hidden_dim)\n",
        "        '''\n",
        "        # Implement function\n",
        "        weight = next(self.parameters()).data\n",
        "\n",
        "        if (train_on_gpu):\n",
        "            hidden = (weight.new(self.n_layers, batch_size, self.hidden_dim).zero_().cuda(),\n",
        "                  weight.new(self.n_layers, batch_size, self.hidden_dim).zero_().cuda())\n",
        "        else:\n",
        "            hidden = (weight.new(self.n_layers, batch_size, self.hidden_dim).zero_(),\n",
        "                      weight.new(self.n_layers, batch_size, self.hidden_dim).zero_())\n",
        "        # initialize hidden state with zero weights, and move to GPU if available\n",
        "        \n",
        "        return hidden"
      ],
      "execution_count": 0,
      "outputs": []
    },
    {
      "cell_type": "code",
      "metadata": {
        "id": "MgF3MIQedUJf",
        "colab_type": "code",
        "colab": {}
      },
      "source": [
        "def forward_back_prop(rnn, optimizer, criterion, inp, target, hidden):\n",
        "    \"\"\"\n",
        "    Forward and backward propagation on the neural network\n",
        "    :param decoder: The PyTorch Module that holds the neural network\n",
        "    :param decoder_optimizer: The PyTorch optimizer for the neural network\n",
        "    :param criterion: The PyTorch loss function\n",
        "    :param inp: A batch of input to the neural network\n",
        "    :param target: The target output for the batch of input\n",
        "    :return: The loss and the latest hidden state Tensor\n",
        "    \"\"\"\n",
        "    \n",
        "    hidden = tuple([each.data for each in hidden])\n",
        "    \n",
        "    # move data to GPU, if available\n",
        "    if train_on_gpu :\n",
        "        inp , target  = inp.cuda() , target.cuda() \n",
        "        \n",
        "    # perform backpropagation and optimization\n",
        "    optimizer.zero_grad()\n",
        "    output , hidden = rnn.forward(inp,hidden)\n",
        "    \n",
        "    loss = criterion(output,target)\n",
        "    loss.backward()\n",
        "    \n",
        "    nn.utils.clip_grad_norm_(rnn.parameters(), 3)\n",
        "    optimizer.step()\n",
        "    # return the loss over a batch and the hidden state produced by our model\n",
        "    return loss.item(), hidden\n"
      ],
      "execution_count": 0,
      "outputs": []
    },
    {
      "cell_type": "markdown",
      "metadata": {
        "id": "rsJ6bcYRda-4",
        "colab_type": "text"
      },
      "source": [
        "## Training"
      ]
    },
    {
      "cell_type": "code",
      "metadata": {
        "id": "FmvWh5fVdYn5",
        "colab_type": "code",
        "colab": {}
      },
      "source": [
        "\n",
        "def train_rnn(rnn, batch_size, optimizer, criterion, n_epochs, show_every_n_batches=100):\n",
        "    batch_losses = []\n",
        "    \n",
        "    rnn.train()\n",
        "\n",
        "    print(\"Training for %d epoch(s)...\" % n_epochs)\n",
        "    for epoch_i in range(1, n_epochs + 1):\n",
        "        \n",
        "        # initialize hidden state\n",
        "        hidden = rnn.init_hidden(batch_size)\n",
        "        \n",
        "        for batch_i, (inputs, labels) in enumerate(train_loader, 1):\n",
        "            \n",
        "            # make sure you iterate over completely full batches, only\n",
        "            n_batches = len(train_loader.dataset)//batch_size\n",
        "            if(batch_i > n_batches):\n",
        "                break\n",
        "            \n",
        "            # forward, back prop\n",
        "            loss, hidden = forward_back_prop(rnn, optimizer, criterion, inputs, labels, hidden)          \n",
        "            # record loss\n",
        "            batch_losses.append(loss)\n",
        "\n",
        "            # printing loss stats\n",
        "            if batch_i % show_every_n_batches == 0:\n",
        "                print('Epoch: {:>4}/{:<4}  Loss: {}\\n'.format(\n",
        "                    epoch_i, n_epochs, np.average(batch_losses)))\n",
        "                batch_losses = []\n",
        "\n",
        "    # returns a trained rnn\n",
        "    return rnn"
      ],
      "execution_count": 0,
      "outputs": []
    },
    {
      "cell_type": "markdown",
      "metadata": {
        "id": "3byZw8rDdgQo",
        "colab_type": "text"
      },
      "source": [
        "## Hyperparameters"
      ]
    },
    {
      "cell_type": "markdown",
      "metadata": {
        "id": "DBBniIU7dgOE",
        "colab_type": "text"
      },
      "source": [
        ""
      ]
    },
    {
      "cell_type": "code",
      "metadata": {
        "id": "MftbVNygddeX",
        "colab_type": "code",
        "colab": {}
      },
      "source": [
        "# Data params\n",
        "# Sequence Length\n",
        "sequence_length = 8  # of words in a sequence\n",
        "# Batch Size\n",
        "batch_size = 128\n",
        "\n",
        "# data loader - do not change\n",
        "train_loader = batch_data(int_text, sequence_length, batch_size)\n"
      ],
      "execution_count": 0,
      "outputs": []
    },
    {
      "cell_type": "code",
      "metadata": {
        "id": "yVo0LomOdkb5",
        "colab_type": "code",
        "colab": {}
      },
      "source": [
        "# Training parameters\n",
        "# Number of Epochs\n",
        "num_epochs = 10  # first 10\n",
        "# Learning Rate\n",
        "learning_rate = 0.0005\n",
        "\n",
        "# Model parameters\n",
        "# Vocab size\n",
        "vocab_size = len({word for word in text.split()})\n",
        "# Output size\n",
        "output_size = vocab_size\n",
        "# Embedding Dimension\n",
        "embedding_dim = 300 # first 350\n",
        "# Hidden Dimension\n",
        "hidden_dim = 512  # first 450\n",
        "# Number of RNN Layers\n",
        "n_layers = 2  # first 3 \n",
        "\n",
        "# Show stats for every n number of batches\n",
        "show_every_n_batches = 500"
      ],
      "execution_count": 0,
      "outputs": []
    },
    {
      "cell_type": "code",
      "metadata": {
        "id": "61Y7I7pddmRq",
        "colab_type": "code",
        "colab": {
          "base_uri": "https://localhost:8080/",
          "height": 1000
        },
        "outputId": "7b7cab28-cbc6-4398-af47-fe370f5a8eb7"
      },
      "source": [
        "\n",
        "# create model and move to gpu if available\n",
        "rnn = RNN(vocab_size, output_size, embedding_dim, hidden_dim, n_layers, dropout=0.5)\n",
        "if train_on_gpu:\n",
        "    rnn.cuda()\n",
        "\n",
        "# defining loss and optimization functions for training\n",
        "optimizer = torch.optim.Adam(rnn.parameters(), lr=learning_rate)\n",
        "criterion = nn.CrossEntropyLoss()\n",
        "\n",
        "# training the model\n",
        "trained_rnn = train_rnn(rnn, batch_size, optimizer, criterion, num_epochs, show_every_n_batches)\n",
        "\n",
        "# saving the trained model\n",
        "helper.save_model('./save/trained_rnn', trained_rnn)\n",
        "print('Model Trained and Saved')"
      ],
      "execution_count": 18,
      "outputs": [
        {
          "output_type": "stream",
          "text": [
            "Training for 10 epoch(s)...\n",
            "Epoch:    1/10    Loss: 5.612951501369476\n",
            "\n",
            "Epoch:    1/10    Loss: 4.964607660293579\n",
            "\n",
            "Epoch:    1/10    Loss: 4.717939210414887\n",
            "\n",
            "Epoch:    1/10    Loss: 4.58782947397232\n",
            "\n",
            "Epoch:    1/10    Loss: 4.575452235221863\n",
            "\n",
            "Epoch:    1/10    Loss: 4.601719722270966\n",
            "\n",
            "Epoch:    1/10    Loss: 4.500498697757721\n",
            "\n",
            "Epoch:    1/10    Loss: 4.372359366893768\n",
            "\n",
            "Epoch:    1/10    Loss: 4.337255093574524\n",
            "\n",
            "Epoch:    1/10    Loss: 4.2721230354309085\n",
            "\n",
            "Epoch:    1/10    Loss: 4.383106071949005\n",
            "\n",
            "Epoch:    1/10    Loss: 4.402005921840668\n",
            "\n",
            "Epoch:    1/10    Loss: 4.399193981647492\n",
            "\n",
            "Epoch:    2/10    Loss: 4.177937800670187\n",
            "\n",
            "Epoch:    2/10    Loss: 4.001221912860871\n",
            "\n",
            "Epoch:    2/10    Loss: 3.8907185640335085\n",
            "\n",
            "Epoch:    2/10    Loss: 3.8577498202323914\n",
            "\n",
            "Epoch:    2/10    Loss: 3.8852937440872193\n",
            "\n",
            "Epoch:    2/10    Loss: 3.9836142048835756\n",
            "\n",
            "Epoch:    2/10    Loss: 3.916054512500763\n",
            "\n",
            "Epoch:    2/10    Loss: 3.801989213466644\n",
            "\n",
            "Epoch:    2/10    Loss: 3.799507357120514\n",
            "\n",
            "Epoch:    2/10    Loss: 3.7659896025657655\n",
            "\n",
            "Epoch:    2/10    Loss: 3.876374533653259\n",
            "\n",
            "Epoch:    2/10    Loss: 3.88661426448822\n",
            "\n",
            "Epoch:    2/10    Loss: 3.907849087715149\n",
            "\n",
            "Epoch:    3/10    Loss: 3.781958549753431\n",
            "\n",
            "Epoch:    3/10    Loss: 3.702908706188202\n",
            "\n",
            "Epoch:    3/10    Loss: 3.6099783725738526\n",
            "\n",
            "Epoch:    3/10    Loss: 3.5880386452674866\n",
            "\n",
            "Epoch:    3/10    Loss: 3.6134463982582092\n",
            "\n",
            "Epoch:    3/10    Loss: 3.7119653134346007\n",
            "\n",
            "Epoch:    3/10    Loss: 3.662252466201782\n",
            "\n",
            "Epoch:    3/10    Loss: 3.5503204855918886\n",
            "\n",
            "Epoch:    3/10    Loss: 3.5550953450202942\n",
            "\n",
            "Epoch:    3/10    Loss: 3.533073248386383\n",
            "\n",
            "Epoch:    3/10    Loss: 3.6346639800071716\n",
            "\n",
            "Epoch:    3/10    Loss: 3.6465690784454345\n",
            "\n",
            "Epoch:    3/10    Loss: 3.655425977230072\n",
            "\n",
            "Epoch:    4/10    Loss: 3.5706964968650827\n",
            "\n",
            "Epoch:    4/10    Loss: 3.51670609664917\n",
            "\n",
            "Epoch:    4/10    Loss: 3.427813250541687\n",
            "\n",
            "Epoch:    4/10    Loss: 3.4064230527877806\n",
            "\n",
            "Epoch:    4/10    Loss: 3.4205642185211182\n",
            "\n",
            "Epoch:    4/10    Loss: 3.5248617253303527\n",
            "\n",
            "Epoch:    4/10    Loss: 3.484664708137512\n",
            "\n",
            "Epoch:    4/10    Loss: 3.3779087343215943\n",
            "\n",
            "Epoch:    4/10    Loss: 3.372378388881683\n",
            "\n",
            "Epoch:    4/10    Loss: 3.366155247211456\n",
            "\n",
            "Epoch:    4/10    Loss: 3.464400456428528\n",
            "\n",
            "Epoch:    4/10    Loss: 3.4847881927490234\n",
            "\n",
            "Epoch:    4/10    Loss: 3.4793476858139036\n",
            "\n",
            "Epoch:    5/10    Loss: 3.419578139626943\n",
            "\n",
            "Epoch:    5/10    Loss: 3.373819209575653\n",
            "\n",
            "Epoch:    5/10    Loss: 3.2963285565376284\n",
            "\n",
            "Epoch:    5/10    Loss: 3.274763165950775\n",
            "\n",
            "Epoch:    5/10    Loss: 3.2852475204467773\n",
            "\n",
            "Epoch:    5/10    Loss: 3.380944410324097\n",
            "\n",
            "Epoch:    5/10    Loss: 3.3402985677719115\n",
            "\n",
            "Epoch:    5/10    Loss: 3.2467833013534544\n",
            "\n",
            "Epoch:    5/10    Loss: 3.2372110238075256\n",
            "\n",
            "Epoch:    5/10    Loss: 3.2410354895591738\n",
            "\n",
            "Epoch:    5/10    Loss: 3.339728231430054\n",
            "\n",
            "Epoch:    5/10    Loss: 3.3510383377075197\n",
            "\n",
            "Epoch:    5/10    Loss: 3.352988634109497\n",
            "\n",
            "Epoch:    6/10    Loss: 3.3097715195733572\n",
            "\n",
            "Epoch:    6/10    Loss: 3.257826187133789\n",
            "\n",
            "Epoch:    6/10    Loss: 3.195461716175079\n",
            "\n",
            "Epoch:    6/10    Loss: 3.1798822903633117\n",
            "\n",
            "Epoch:    6/10    Loss: 3.171357846736908\n",
            "\n",
            "Epoch:    6/10    Loss: 3.2670214524269103\n",
            "\n",
            "Epoch:    6/10    Loss: 3.2285620803833006\n",
            "\n",
            "Epoch:    6/10    Loss: 3.1497308058738707\n",
            "\n",
            "Epoch:    6/10    Loss: 3.1261108746528627\n",
            "\n",
            "Epoch:    6/10    Loss: 3.1440969309806825\n",
            "\n",
            "Epoch:    6/10    Loss: 3.225013662815094\n",
            "\n",
            "Epoch:    6/10    Loss: 3.233998559474945\n",
            "\n",
            "Epoch:    6/10    Loss: 3.2420625286102296\n",
            "\n",
            "Epoch:    7/10    Loss: 3.211244164113536\n",
            "\n",
            "Epoch:    7/10    Loss: 3.1734039402008056\n",
            "\n",
            "Epoch:    7/10    Loss: 3.103867274284363\n",
            "\n",
            "Epoch:    7/10    Loss: 3.0954155678749085\n",
            "\n",
            "Epoch:    7/10    Loss: 3.0847966141700747\n",
            "\n",
            "Epoch:    7/10    Loss: 3.173090873718262\n",
            "\n",
            "Epoch:    7/10    Loss: 3.1426457753181456\n",
            "\n",
            "Epoch:    7/10    Loss: 3.0718549914360045\n",
            "\n",
            "Epoch:    7/10    Loss: 3.0427063269615173\n",
            "\n",
            "Epoch:    7/10    Loss: 3.06697572517395\n",
            "\n",
            "Epoch:    7/10    Loss: 3.1404468579292297\n",
            "\n",
            "Epoch:    7/10    Loss: 3.149332013607025\n",
            "\n",
            "Epoch:    7/10    Loss: 3.1550796217918395\n",
            "\n",
            "Epoch:    8/10    Loss: 3.13610102025594\n",
            "\n",
            "Epoch:    8/10    Loss: 3.0907672595977784\n",
            "\n",
            "Epoch:    8/10    Loss: 3.0344491634368898\n",
            "\n",
            "Epoch:    8/10    Loss: 3.025087609291077\n",
            "\n",
            "Epoch:    8/10    Loss: 3.0075872745513914\n",
            "\n",
            "Epoch:    8/10    Loss: 3.0965077514648436\n",
            "\n",
            "Epoch:    8/10    Loss: 3.0686061820983888\n",
            "\n",
            "Epoch:    8/10    Loss: 3.0006592283248903\n",
            "\n",
            "Epoch:    8/10    Loss: 2.9693011946678163\n",
            "\n",
            "Epoch:    8/10    Loss: 2.9945129895210267\n",
            "\n",
            "Epoch:    8/10    Loss: 3.0664994115829467\n",
            "\n",
            "Epoch:    8/10    Loss: 3.0712284421920777\n",
            "\n",
            "Epoch:    8/10    Loss: 3.081351951599121\n",
            "\n",
            "Epoch:    9/10    Loss: 3.0656867083873296\n",
            "\n",
            "Epoch:    9/10    Loss: 3.0365207171440125\n",
            "\n",
            "Epoch:    9/10    Loss: 2.976493982791901\n",
            "\n",
            "Epoch:    9/10    Loss: 2.9610424370765687\n",
            "\n",
            "Epoch:    9/10    Loss: 2.938979893684387\n",
            "\n",
            "Epoch:    9/10    Loss: 3.03110392665863\n",
            "\n",
            "Epoch:    9/10    Loss: 3.005913116455078\n",
            "\n",
            "Epoch:    9/10    Loss: 2.9509735865592956\n",
            "\n",
            "Epoch:    9/10    Loss: 2.9058832488059996\n",
            "\n",
            "Epoch:    9/10    Loss: 2.94283874130249\n",
            "\n",
            "Epoch:    9/10    Loss: 3.0014128050804136\n",
            "\n",
            "Epoch:    9/10    Loss: 3.006751853466034\n",
            "\n",
            "Epoch:    9/10    Loss: 3.012159721851349\n",
            "\n",
            "Epoch:   10/10    Loss: 3.003740001389117\n",
            "\n",
            "Epoch:   10/10    Loss: 2.9651816992759703\n",
            "\n",
            "Epoch:   10/10    Loss: 2.9179879908561706\n",
            "\n",
            "Epoch:   10/10    Loss: 2.9023308663368224\n",
            "\n",
            "Epoch:   10/10    Loss: 2.874563561439514\n",
            "\n",
            "Epoch:   10/10    Loss: 2.9662427101135256\n",
            "\n",
            "Epoch:   10/10    Loss: 2.9390646572113037\n",
            "\n",
            "Epoch:   10/10    Loss: 2.888411888599396\n",
            "\n",
            "Epoch:   10/10    Loss: 2.8474521474838257\n",
            "\n",
            "Epoch:   10/10    Loss: 2.8813363308906554\n",
            "\n",
            "Epoch:   10/10    Loss: 2.937666319847107\n",
            "\n",
            "Epoch:   10/10    Loss: 2.9508422632217406\n",
            "\n",
            "Epoch:   10/10    Loss: 2.9478541712760924\n",
            "\n"
          ],
          "name": "stdout"
        },
        {
          "output_type": "stream",
          "text": [
            "/usr/local/lib/python3.6/dist-packages/torch/serialization.py:360: UserWarning: Couldn't retrieve source code for container of type RNN. It won't be checked for correctness upon loading.\n",
            "  \"type \" + obj.__name__ + \". It won't be checked \"\n"
          ],
          "name": "stderr"
        },
        {
          "output_type": "stream",
          "text": [
            "Model Trained and Saved\n"
          ],
          "name": "stdout"
        }
      ]
    },
    {
      "cell_type": "code",
      "metadata": {
        "id": "9lKPbgb6dpZQ",
        "colab_type": "code",
        "colab": {}
      },
      "source": [
        ""
      ],
      "execution_count": 0,
      "outputs": []
    }
  ]
}